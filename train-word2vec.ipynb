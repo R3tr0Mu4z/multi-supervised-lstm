{
 "cells": [
  {
   "cell_type": "code",
   "execution_count": 2,
   "id": "69f933f8",
   "metadata": {},
   "outputs": [],
   "source": [
    "\"\"\"\n",
    "    Dataset 1 (Bangla Wikipedia Dataset) : https://www.kaggle.com/datasets/saurabhshahane/bangla-wikipedia\n",
    "\"\"\"\n",
    "from gensim.models import KeyedVectors\n",
    "from gensim.models import Word2Vec\n",
    "from sklearn.decomposition import PCA\n",
    "from matplotlib import pyplot\n",
    "from gensim.scripts.glove2word2vec import glove2word2vec\n",
    "from gensim.models import KeyedVectors\n",
    "import pandas as pd\n",
    "import string\n",
    "import numpy as np\n",
    "import numpy as np\n",
    "import pandas as pd\n",
    "from gensim.models.word2vec import Word2Vec\n",
    "from sklearn.model_selection import train_test_split\n",
    "from keras.utils import to_categorical\n",
    "from keras.layers import *\n",
    "from keras.preprocessing.text import Tokenizer\n",
    "from keras_preprocessing.sequence import pad_sequences\n",
    "from keras.models import *\n",
    "import re\n",
    "import nltk\n",
    "from nltk.corpus import stopwords\n",
    "from nltk.stem.snowball import PorterStemmer\n",
    "from sklearn import preprocessing\n",
    "from tensorflow.keras import mixed_precision\n",
    "from tensorflow.keras.optimizers import Adam\n",
    "from keras.callbacks import ModelCheckpoint, EarlyStopping, CSVLogger, LearningRateScheduler"
   ]
  },
  {
   "cell_type": "code",
   "execution_count": 3,
   "id": "c8966bcb",
   "metadata": {},
   "outputs": [],
   "source": [
    "# Loading Bangla Wiki dataset\n",
    "df = pd.read_csv('../datasets/wiki.csv')\n",
    "wiki = df['text'].tolist()"
   ]
  },
  {
   "cell_type": "code",
   "execution_count": 4,
   "id": "86e53f19",
   "metadata": {},
   "outputs": [],
   "source": [
    "# Processing the dataset\n",
    "# Codes used from https://www.kaggle.com/code/sadmanaraf/bangla-embedding-training-using-gensim/notebook\n",
    "def remove_punc(sentences):\n",
    "    new_sentences=[]\n",
    "    exclude = list(set(string.punctuation))\n",
    "    exclude.extend([\"’\", \"‘\", \"—\",\"\\n\",'০','১','২','৩','৪','৫','৬','৭','৮','৯'])\n",
    "    for sentence in sentences:\n",
    "        s = ''.join(ch for ch in sentence if ch not in exclude)\n",
    "        new_sentences.append(s)\n",
    "    \n",
    "    return new_sentences\n",
    "\n",
    "def sentences_cleaner(sentences):\n",
    "    clean_sentences = remove_punc(sentences)\n",
    "    clean_sentences = [article.split('।') for article in clean_sentences]\n",
    "    clean_sentences = [item for sublist in clean_sentences for item in sublist]\n",
    "    clean_sentences = [item.strip() for item in clean_sentences if len(item.split())>1]\n",
    "    clean_sentences = [item.split() for item in clean_sentences]\n",
    "    return clean_sentences"
   ]
  },
  {
   "cell_type": "code",
   "execution_count": 5,
   "id": "f0c24841",
   "metadata": {},
   "outputs": [],
   "source": [
    "w2v_model = Word2Vec(sentences_cleaner(wiki), vector_size=100, window=5, min_count=5)\n",
    "w2v_model.save(\"word2vec.model\")"
   ]
  },
  {
   "cell_type": "code",
   "execution_count": null,
   "id": "50fd8fd3",
   "metadata": {},
   "outputs": [],
   "source": []
  },
  {
   "cell_type": "code",
   "execution_count": null,
   "id": "04a40a3b",
   "metadata": {},
   "outputs": [],
   "source": []
  },
  {
   "cell_type": "code",
   "execution_count": null,
   "id": "885a8eaa",
   "metadata": {},
   "outputs": [],
   "source": []
  }
 ],
 "metadata": {
  "kernelspec": {
   "display_name": "Python 3 (ipykernel)",
   "language": "python",
   "name": "python3"
  },
  "language_info": {
   "codemirror_mode": {
    "name": "ipython",
    "version": 3
   },
   "file_extension": ".py",
   "mimetype": "text/x-python",
   "name": "python",
   "nbconvert_exporter": "python",
   "pygments_lexer": "ipython3",
   "version": "3.7.15"
  }
 },
 "nbformat": 4,
 "nbformat_minor": 5
}
